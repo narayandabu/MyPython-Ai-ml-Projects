{
  "cells": [
    {
      "cell_type": "markdown",
      "metadata": {
        "id": "view-in-github",
        "colab_type": "text"
      },
      "source": [
        "<a href=\"https://colab.research.google.com/github/narayandabu/MyPython-Ai-ml-Projects/blob/master/titanic_survival_rate.ipynb\" target=\"_parent\"><img src=\"https://colab.research.google.com/assets/colab-badge.svg\" alt=\"Open In Colab\"/></a>"
      ]
    },
    {
      "cell_type": "markdown",
      "metadata": {
        "id": "syMsEzAWy4Up"
      },
      "source": [
        "Run the below cell to download the csv and file into your colab/jupyter notebook and start working with it. You will be needing this for completing the task."
      ]
    },
    {
      "cell_type": "code",
      "execution_count": null,
      "metadata": {
        "id": "olEHk0Ecx-8U",
        "colab": {
          "base_uri": "https://localhost:8080/"
        },
        "outputId": "80d16ee8-f4fe-4e1f-e228-dc1f7c358fec"
      },
      "outputs": [
        {
          "output_type": "stream",
          "name": "stdout",
          "text": [
            "--2023-11-02 18:43:30--  https://raw.githubusercontent.com/Spectrum-CETB/Data-Science-AI/main/Datasets/titanic.csv\n",
            "Resolving raw.githubusercontent.com (raw.githubusercontent.com)... 185.199.111.133, 185.199.108.133, 185.199.110.133, ...\n",
            "Connecting to raw.githubusercontent.com (raw.githubusercontent.com)|185.199.111.133|:443... connected.\n",
            "HTTP request sent, awaiting response... 200 OK\n",
            "Length: 61194 (60K) [text/plain]\n",
            "Saving to: ‘titanic.csv.3’\n",
            "\n",
            "\rtitanic.csv.3         0%[                    ]       0  --.-KB/s               \rtitanic.csv.3       100%[===================>]  59.76K  --.-KB/s    in 0.01s   \n",
            "\n",
            "2023-11-02 18:43:30 (4.57 MB/s) - ‘titanic.csv.3’ saved [61194/61194]\n",
            "\n"
          ]
        }
      ],
      "source": [
        "!wget https://raw.githubusercontent.com/Spectrum-CETB/Data-Science-AI/main/Datasets/titanic.csv"
      ]
    },
    {
      "cell_type": "markdown",
      "metadata": {
        "id": "xaey2iY16e7n"
      },
      "source": [
        "## Task: Machine Learning Model for Titanic Survival Prediction\n",
        "\n",
        "### Introduction:\n",
        "In this task, you will work on the Titanic dataset, a famous dataset in the field of machine learning. The goal is to build a machine learning model that predicts whether a passenger on the Titanic survived or not. The dataset contains various features, and you will need to perform several key tasks in the machine learning pipeline.\n",
        "\n",
        "### Instructions:\n",
        "\n",
        "1. **Data Preprocessing:**\n",
        "    - Load the Titanic dataset.\n",
        "    - Handle missing values in the dataset.\n",
        "    - Encode categorical features (e.g., one-hot encoding or label encoding).\n",
        "    - Split the data into training and testing sets.\n",
        "\n",
        "2. **Exploratory Data Analysis (EDA):**\n",
        "    - Perform exploratory data analysis to understand the dataset.\n",
        "    - Visualize the data to gain insights into passenger demographics and their survival rates.\n",
        "    - Identify any interesting patterns or correlations between features and survival.\n",
        "\n",
        "3. **Outlier Detection and Removal:**\n",
        "    - Detect and deal with outliers in the dataset.\n",
        "    - Explain the approach you used for outlier detection and removal.\n",
        "\n",
        "4. **Data Extraction:**\n",
        "    - Create any new features or transformations that you believe might be useful for improving the model's performance.\n",
        "    - Justify the choice of these new features or transformations.\n",
        "\n",
        "5. **Model Selection:**\n",
        "    - Choose a machine learning algorithm for classification. Suggest at least three common classification algorithms (e.g., Logistic Regression, Random Forest, Support Vector Machine).\n",
        "    - Explain your rationale for selecting the chosen algorithms.\n",
        "\n",
        "6. **Model Building and Hyperparameter Tuning:**\n",
        "    - Implement the selected machine learning algorithms and train them on the training data.\n",
        "    - Perform hyperparameter tuning for each algorithm to optimize their performance.\n",
        "    - Clearly specify the hyperparameters you tuned and the methodology used.\n",
        "\n",
        "7. **Model Evaluation:**\n",
        "    - Evaluate the performance of each model using accuracy as the primary metric.\n",
        "    - Compare the models and choose the best-performing model for the final predictions.\n",
        "    - Report the accuracy score for the chosen model on the testing data.\n",
        "\n",
        "8. **Conclusion:**\n",
        "    - Summarize your findings and the key steps in the machine learning pipeline.\n",
        "    - Reflect on any challenges you encountered and how you addressed them.\n",
        "\n",
        "### Submission:\n",
        "Submit your code, along with a report explaining the steps you took, the reasoning behind your choices, and the accuracy score achieved on the test dataset.\n",
        "\n",
        "Good luck, and may your machine learning model effectively predict Titanic passenger survival!\n"
      ]
    },
    {
      "cell_type": "markdown",
      "metadata": {
        "id": "JjZ0u4sO7Syd"
      },
      "source": [
        "#Libraries for data analysis and cleaning"
      ]
    },
    {
      "cell_type": "code",
      "source": [
        "# your code starts here"
      ],
      "metadata": {
        "id": "CXVxnUzNae7a"
      },
      "execution_count": null,
      "outputs": []
    },
    {
      "cell_type": "code",
      "execution_count": null,
      "metadata": {
        "id": "_UPD_4TD0Uzq"
      },
      "outputs": [],
      "source": [
        "import pandas as pd\n",
        "import numpy as np\n",
        "import matplotlib.pyplot as plt\n",
        "import seaborn as sns\n",
        "\n",
        "df = pd.read_csv('titanic.csv')"
      ]
    },
    {
      "cell_type": "markdown",
      "metadata": {
        "id": "ekOtDjLSzQdv"
      },
      "source": [
        "#**User-Defined Functions for data visualization**"
      ]
    },
    {
      "cell_type": "code",
      "execution_count": null,
      "metadata": {
        "id": "S_Z1igWszQEw"
      },
      "outputs": [],
      "source": [
        "def rm_outliers(df,clm):\n",
        "  Q1 = df[clm].quantile(0.25)\n",
        "  Q3 = df[clm].quantile(0.75)\n",
        "  IQR = Q3 - Q1\n",
        "  lower_bound = Q1 - 1.5 * IQR\n",
        "  upper_bound = Q3 + 1.5 * IQR\n",
        "  return df[(df[clm] >= lower_bound) & (df[clm] <= upper_bound)]\n",
        "\n",
        "def kde_vs_survived(df, vs):\n",
        "  survived = df[df['Survived']==1][vs]\n",
        "  not_survived = df[df['Survived']==0][vs]\n",
        "  sns.kdeplot(survived,label='Survived')\n",
        "  sns.kdeplot(not_survived,label='Not_Survived')\n",
        "  plt.legend()\n",
        "  plt.show()"
      ]
    },
    {
      "cell_type": "markdown",
      "metadata": {
        "id": "v3Mm8zkV8D9F"
      },
      "source": [
        "### Data Visualizations and Insights"
      ]
    },
    {
      "cell_type": "markdown",
      "metadata": {
        "id": "fSmGscT5-ezC"
      },
      "source": [
        "##Overview of the Data\n",
        "-> It shows that the total number of data points should be 891 but for example we can see in case of **Age** only 714 are present Hence Data cleaning needs to start from here itself.\n",
        "\n",
        "\n",
        "-> Also we can see that the passenger Id nor the Name as well as the ticket and cabin data Will not contribute significantly to the survival of a person. Hence we can Directly Remove Them."
      ]
    },
    {
      "cell_type": "code",
      "execution_count": null,
      "metadata": {
        "id": "OXP_r6yuGfjE",
        "colab": {
          "base_uri": "https://localhost:8080/",
          "height": 501
        },
        "outputId": "fb2ac141-2adf-4857-d702-d1a3bf1d0e27"
      },
      "outputs": [
        {
          "output_type": "execute_result",
          "data": {
            "text/plain": [
              "   PassengerId  Survived  Pclass  \\\n",
              "0            1         0       3   \n",
              "1            2         1       1   \n",
              "2            3         1       3   \n",
              "3            4         1       1   \n",
              "4            5         0       3   \n",
              "5            6         0       3   \n",
              "6            7         0       1   \n",
              "7            8         0       3   \n",
              "8            9         1       3   \n",
              "9           10         1       2   \n",
              "\n",
              "                                                Name     Sex   Age  SibSp  \\\n",
              "0                            Braund, Mr. Owen Harris    male  22.0      1   \n",
              "1  Cumings, Mrs. John Bradley (Florence Briggs Th...  female  38.0      1   \n",
              "2                             Heikkinen, Miss. Laina  female  26.0      0   \n",
              "3       Futrelle, Mrs. Jacques Heath (Lily May Peel)  female  35.0      1   \n",
              "4                           Allen, Mr. William Henry    male  35.0      0   \n",
              "5                                   Moran, Mr. James    male   NaN      0   \n",
              "6                            McCarthy, Mr. Timothy J    male  54.0      0   \n",
              "7                     Palsson, Master. Gosta Leonard    male   2.0      3   \n",
              "8  Johnson, Mrs. Oscar W (Elisabeth Vilhelmina Berg)  female  27.0      0   \n",
              "9                Nasser, Mrs. Nicholas (Adele Achem)  female  14.0      1   \n",
              "\n",
              "   Parch            Ticket     Fare Cabin Embarked  \n",
              "0      0         A/5 21171   7.2500   NaN        S  \n",
              "1      0          PC 17599  71.2833   C85        C  \n",
              "2      0  STON/O2. 3101282   7.9250   NaN        S  \n",
              "3      0            113803  53.1000  C123        S  \n",
              "4      0            373450   8.0500   NaN        S  \n",
              "5      0            330877   8.4583   NaN        Q  \n",
              "6      0             17463  51.8625   E46        S  \n",
              "7      1            349909  21.0750   NaN        S  \n",
              "8      2            347742  11.1333   NaN        S  \n",
              "9      0            237736  30.0708   NaN        C  "
            ],
            "text/html": [
              "\n",
              "  <div id=\"df-30af1a5e-de57-41e6-b247-65fe19beef0d\" class=\"colab-df-container\">\n",
              "    <div>\n",
              "<style scoped>\n",
              "    .dataframe tbody tr th:only-of-type {\n",
              "        vertical-align: middle;\n",
              "    }\n",
              "\n",
              "    .dataframe tbody tr th {\n",
              "        vertical-align: top;\n",
              "    }\n",
              "\n",
              "    .dataframe thead th {\n",
              "        text-align: right;\n",
              "    }\n",
              "</style>\n",
              "<table border=\"1\" class=\"dataframe\">\n",
              "  <thead>\n",
              "    <tr style=\"text-align: right;\">\n",
              "      <th></th>\n",
              "      <th>PassengerId</th>\n",
              "      <th>Survived</th>\n",
              "      <th>Pclass</th>\n",
              "      <th>Name</th>\n",
              "      <th>Sex</th>\n",
              "      <th>Age</th>\n",
              "      <th>SibSp</th>\n",
              "      <th>Parch</th>\n",
              "      <th>Ticket</th>\n",
              "      <th>Fare</th>\n",
              "      <th>Cabin</th>\n",
              "      <th>Embarked</th>\n",
              "    </tr>\n",
              "  </thead>\n",
              "  <tbody>\n",
              "    <tr>\n",
              "      <th>0</th>\n",
              "      <td>1</td>\n",
              "      <td>0</td>\n",
              "      <td>3</td>\n",
              "      <td>Braund, Mr. Owen Harris</td>\n",
              "      <td>male</td>\n",
              "      <td>22.0</td>\n",
              "      <td>1</td>\n",
              "      <td>0</td>\n",
              "      <td>A/5 21171</td>\n",
              "      <td>7.2500</td>\n",
              "      <td>NaN</td>\n",
              "      <td>S</td>\n",
              "    </tr>\n",
              "    <tr>\n",
              "      <th>1</th>\n",
              "      <td>2</td>\n",
              "      <td>1</td>\n",
              "      <td>1</td>\n",
              "      <td>Cumings, Mrs. John Bradley (Florence Briggs Th...</td>\n",
              "      <td>female</td>\n",
              "      <td>38.0</td>\n",
              "      <td>1</td>\n",
              "      <td>0</td>\n",
              "      <td>PC 17599</td>\n",
              "      <td>71.2833</td>\n",
              "      <td>C85</td>\n",
              "      <td>C</td>\n",
              "    </tr>\n",
              "    <tr>\n",
              "      <th>2</th>\n",
              "      <td>3</td>\n",
              "      <td>1</td>\n",
              "      <td>3</td>\n",
              "      <td>Heikkinen, Miss. Laina</td>\n",
              "      <td>female</td>\n",
              "      <td>26.0</td>\n",
              "      <td>0</td>\n",
              "      <td>0</td>\n",
              "      <td>STON/O2. 3101282</td>\n",
              "      <td>7.9250</td>\n",
              "      <td>NaN</td>\n",
              "      <td>S</td>\n",
              "    </tr>\n",
              "    <tr>\n",
              "      <th>3</th>\n",
              "      <td>4</td>\n",
              "      <td>1</td>\n",
              "      <td>1</td>\n",
              "      <td>Futrelle, Mrs. Jacques Heath (Lily May Peel)</td>\n",
              "      <td>female</td>\n",
              "      <td>35.0</td>\n",
              "      <td>1</td>\n",
              "      <td>0</td>\n",
              "      <td>113803</td>\n",
              "      <td>53.1000</td>\n",
              "      <td>C123</td>\n",
              "      <td>S</td>\n",
              "    </tr>\n",
              "    <tr>\n",
              "      <th>4</th>\n",
              "      <td>5</td>\n",
              "      <td>0</td>\n",
              "      <td>3</td>\n",
              "      <td>Allen, Mr. William Henry</td>\n",
              "      <td>male</td>\n",
              "      <td>35.0</td>\n",
              "      <td>0</td>\n",
              "      <td>0</td>\n",
              "      <td>373450</td>\n",
              "      <td>8.0500</td>\n",
              "      <td>NaN</td>\n",
              "      <td>S</td>\n",
              "    </tr>\n",
              "    <tr>\n",
              "      <th>5</th>\n",
              "      <td>6</td>\n",
              "      <td>0</td>\n",
              "      <td>3</td>\n",
              "      <td>Moran, Mr. James</td>\n",
              "      <td>male</td>\n",
              "      <td>NaN</td>\n",
              "      <td>0</td>\n",
              "      <td>0</td>\n",
              "      <td>330877</td>\n",
              "      <td>8.4583</td>\n",
              "      <td>NaN</td>\n",
              "      <td>Q</td>\n",
              "    </tr>\n",
              "    <tr>\n",
              "      <th>6</th>\n",
              "      <td>7</td>\n",
              "      <td>0</td>\n",
              "      <td>1</td>\n",
              "      <td>McCarthy, Mr. Timothy J</td>\n",
              "      <td>male</td>\n",
              "      <td>54.0</td>\n",
              "      <td>0</td>\n",
              "      <td>0</td>\n",
              "      <td>17463</td>\n",
              "      <td>51.8625</td>\n",
              "      <td>E46</td>\n",
              "      <td>S</td>\n",
              "    </tr>\n",
              "    <tr>\n",
              "      <th>7</th>\n",
              "      <td>8</td>\n",
              "      <td>0</td>\n",
              "      <td>3</td>\n",
              "      <td>Palsson, Master. Gosta Leonard</td>\n",
              "      <td>male</td>\n",
              "      <td>2.0</td>\n",
              "      <td>3</td>\n",
              "      <td>1</td>\n",
              "      <td>349909</td>\n",
              "      <td>21.0750</td>\n",
              "      <td>NaN</td>\n",
              "      <td>S</td>\n",
              "    </tr>\n",
              "    <tr>\n",
              "      <th>8</th>\n",
              "      <td>9</td>\n",
              "      <td>1</td>\n",
              "      <td>3</td>\n",
              "      <td>Johnson, Mrs. Oscar W (Elisabeth Vilhelmina Berg)</td>\n",
              "      <td>female</td>\n",
              "      <td>27.0</td>\n",
              "      <td>0</td>\n",
              "      <td>2</td>\n",
              "      <td>347742</td>\n",
              "      <td>11.1333</td>\n",
              "      <td>NaN</td>\n",
              "      <td>S</td>\n",
              "    </tr>\n",
              "    <tr>\n",
              "      <th>9</th>\n",
              "      <td>10</td>\n",
              "      <td>1</td>\n",
              "      <td>2</td>\n",
              "      <td>Nasser, Mrs. Nicholas (Adele Achem)</td>\n",
              "      <td>female</td>\n",
              "      <td>14.0</td>\n",
              "      <td>1</td>\n",
              "      <td>0</td>\n",
              "      <td>237736</td>\n",
              "      <td>30.0708</td>\n",
              "      <td>NaN</td>\n",
              "      <td>C</td>\n",
              "    </tr>\n",
              "  </tbody>\n",
              "</table>\n",
              "</div>\n",
              "    <div class=\"colab-df-buttons\">\n",
              "\n",
              "  <div class=\"colab-df-container\">\n",
              "    <button class=\"colab-df-convert\" onclick=\"convertToInteractive('df-30af1a5e-de57-41e6-b247-65fe19beef0d')\"\n",
              "            title=\"Convert this dataframe to an interactive table.\"\n",
              "            style=\"display:none;\">\n",
              "\n",
              "  <svg xmlns=\"http://www.w3.org/2000/svg\" height=\"24px\" viewBox=\"0 -960 960 960\">\n",
              "    <path d=\"M120-120v-720h720v720H120Zm60-500h600v-160H180v160Zm220 220h160v-160H400v160Zm0 220h160v-160H400v160ZM180-400h160v-160H180v160Zm440 0h160v-160H620v160ZM180-180h160v-160H180v160Zm440 0h160v-160H620v160Z\"/>\n",
              "  </svg>\n",
              "    </button>\n",
              "\n",
              "  <style>\n",
              "    .colab-df-container {\n",
              "      display:flex;\n",
              "      gap: 12px;\n",
              "    }\n",
              "\n",
              "    .colab-df-convert {\n",
              "      background-color: #E8F0FE;\n",
              "      border: none;\n",
              "      border-radius: 50%;\n",
              "      cursor: pointer;\n",
              "      display: none;\n",
              "      fill: #1967D2;\n",
              "      height: 32px;\n",
              "      padding: 0 0 0 0;\n",
              "      width: 32px;\n",
              "    }\n",
              "\n",
              "    .colab-df-convert:hover {\n",
              "      background-color: #E2EBFA;\n",
              "      box-shadow: 0px 1px 2px rgba(60, 64, 67, 0.3), 0px 1px 3px 1px rgba(60, 64, 67, 0.15);\n",
              "      fill: #174EA6;\n",
              "    }\n",
              "\n",
              "    .colab-df-buttons div {\n",
              "      margin-bottom: 4px;\n",
              "    }\n",
              "\n",
              "    [theme=dark] .colab-df-convert {\n",
              "      background-color: #3B4455;\n",
              "      fill: #D2E3FC;\n",
              "    }\n",
              "\n",
              "    [theme=dark] .colab-df-convert:hover {\n",
              "      background-color: #434B5C;\n",
              "      box-shadow: 0px 1px 3px 1px rgba(0, 0, 0, 0.15);\n",
              "      filter: drop-shadow(0px 1px 2px rgba(0, 0, 0, 0.3));\n",
              "      fill: #FFFFFF;\n",
              "    }\n",
              "  </style>\n",
              "\n",
              "    <script>\n",
              "      const buttonEl =\n",
              "        document.querySelector('#df-30af1a5e-de57-41e6-b247-65fe19beef0d button.colab-df-convert');\n",
              "      buttonEl.style.display =\n",
              "        google.colab.kernel.accessAllowed ? 'block' : 'none';\n",
              "\n",
              "      async function convertToInteractive(key) {\n",
              "        const element = document.querySelector('#df-30af1a5e-de57-41e6-b247-65fe19beef0d');\n",
              "        const dataTable =\n",
              "          await google.colab.kernel.invokeFunction('convertToInteractive',\n",
              "                                                    [key], {});\n",
              "        if (!dataTable) return;\n",
              "\n",
              "        const docLinkHtml = 'Like what you see? Visit the ' +\n",
              "          '<a target=\"_blank\" href=https://colab.research.google.com/notebooks/data_table.ipynb>data table notebook</a>'\n",
              "          + ' to learn more about interactive tables.';\n",
              "        element.innerHTML = '';\n",
              "        dataTable['output_type'] = 'display_data';\n",
              "        await google.colab.output.renderOutput(dataTable, element);\n",
              "        const docLink = document.createElement('div');\n",
              "        docLink.innerHTML = docLinkHtml;\n",
              "        element.appendChild(docLink);\n",
              "      }\n",
              "    </script>\n",
              "  </div>\n",
              "\n",
              "\n",
              "<div id=\"df-fa7d7730-3c4d-4cb2-82ea-7d3e3656f5f3\">\n",
              "  <button class=\"colab-df-quickchart\" onclick=\"quickchart('df-fa7d7730-3c4d-4cb2-82ea-7d3e3656f5f3')\"\n",
              "            title=\"Suggest charts.\"\n",
              "            style=\"display:none;\">\n",
              "\n",
              "<svg xmlns=\"http://www.w3.org/2000/svg\" height=\"24px\"viewBox=\"0 0 24 24\"\n",
              "     width=\"24px\">\n",
              "    <g>\n",
              "        <path d=\"M19 3H5c-1.1 0-2 .9-2 2v14c0 1.1.9 2 2 2h14c1.1 0 2-.9 2-2V5c0-1.1-.9-2-2-2zM9 17H7v-7h2v7zm4 0h-2V7h2v10zm4 0h-2v-4h2v4z\"/>\n",
              "    </g>\n",
              "</svg>\n",
              "  </button>\n",
              "\n",
              "<style>\n",
              "  .colab-df-quickchart {\n",
              "      --bg-color: #E8F0FE;\n",
              "      --fill-color: #1967D2;\n",
              "      --hover-bg-color: #E2EBFA;\n",
              "      --hover-fill-color: #174EA6;\n",
              "      --disabled-fill-color: #AAA;\n",
              "      --disabled-bg-color: #DDD;\n",
              "  }\n",
              "\n",
              "  [theme=dark] .colab-df-quickchart {\n",
              "      --bg-color: #3B4455;\n",
              "      --fill-color: #D2E3FC;\n",
              "      --hover-bg-color: #434B5C;\n",
              "      --hover-fill-color: #FFFFFF;\n",
              "      --disabled-bg-color: #3B4455;\n",
              "      --disabled-fill-color: #666;\n",
              "  }\n",
              "\n",
              "  .colab-df-quickchart {\n",
              "    background-color: var(--bg-color);\n",
              "    border: none;\n",
              "    border-radius: 50%;\n",
              "    cursor: pointer;\n",
              "    display: none;\n",
              "    fill: var(--fill-color);\n",
              "    height: 32px;\n",
              "    padding: 0;\n",
              "    width: 32px;\n",
              "  }\n",
              "\n",
              "  .colab-df-quickchart:hover {\n",
              "    background-color: var(--hover-bg-color);\n",
              "    box-shadow: 0 1px 2px rgba(60, 64, 67, 0.3), 0 1px 3px 1px rgba(60, 64, 67, 0.15);\n",
              "    fill: var(--button-hover-fill-color);\n",
              "  }\n",
              "\n",
              "  .colab-df-quickchart-complete:disabled,\n",
              "  .colab-df-quickchart-complete:disabled:hover {\n",
              "    background-color: var(--disabled-bg-color);\n",
              "    fill: var(--disabled-fill-color);\n",
              "    box-shadow: none;\n",
              "  }\n",
              "\n",
              "  .colab-df-spinner {\n",
              "    border: 2px solid var(--fill-color);\n",
              "    border-color: transparent;\n",
              "    border-bottom-color: var(--fill-color);\n",
              "    animation:\n",
              "      spin 1s steps(1) infinite;\n",
              "  }\n",
              "\n",
              "  @keyframes spin {\n",
              "    0% {\n",
              "      border-color: transparent;\n",
              "      border-bottom-color: var(--fill-color);\n",
              "      border-left-color: var(--fill-color);\n",
              "    }\n",
              "    20% {\n",
              "      border-color: transparent;\n",
              "      border-left-color: var(--fill-color);\n",
              "      border-top-color: var(--fill-color);\n",
              "    }\n",
              "    30% {\n",
              "      border-color: transparent;\n",
              "      border-left-color: var(--fill-color);\n",
              "      border-top-color: var(--fill-color);\n",
              "      border-right-color: var(--fill-color);\n",
              "    }\n",
              "    40% {\n",
              "      border-color: transparent;\n",
              "      border-right-color: var(--fill-color);\n",
              "      border-top-color: var(--fill-color);\n",
              "    }\n",
              "    60% {\n",
              "      border-color: transparent;\n",
              "      border-right-color: var(--fill-color);\n",
              "    }\n",
              "    80% {\n",
              "      border-color: transparent;\n",
              "      border-right-color: var(--fill-color);\n",
              "      border-bottom-color: var(--fill-color);\n",
              "    }\n",
              "    90% {\n",
              "      border-color: transparent;\n",
              "      border-bottom-color: var(--fill-color);\n",
              "    }\n",
              "  }\n",
              "</style>\n",
              "\n",
              "  <script>\n",
              "    async function quickchart(key) {\n",
              "      const quickchartButtonEl =\n",
              "        document.querySelector('#' + key + ' button');\n",
              "      quickchartButtonEl.disabled = true;  // To prevent multiple clicks.\n",
              "      quickchartButtonEl.classList.add('colab-df-spinner');\n",
              "      try {\n",
              "        const charts = await google.colab.kernel.invokeFunction(\n",
              "            'suggestCharts', [key], {});\n",
              "      } catch (error) {\n",
              "        console.error('Error during call to suggestCharts:', error);\n",
              "      }\n",
              "      quickchartButtonEl.classList.remove('colab-df-spinner');\n",
              "      quickchartButtonEl.classList.add('colab-df-quickchart-complete');\n",
              "    }\n",
              "    (() => {\n",
              "      let quickchartButtonEl =\n",
              "        document.querySelector('#df-fa7d7730-3c4d-4cb2-82ea-7d3e3656f5f3 button');\n",
              "      quickchartButtonEl.style.display =\n",
              "        google.colab.kernel.accessAllowed ? 'block' : 'none';\n",
              "    })();\n",
              "  </script>\n",
              "</div>\n",
              "    </div>\n",
              "  </div>\n"
            ]
          },
          "metadata": {},
          "execution_count": 64
        }
      ],
      "source": [
        "df.head(10)"
      ]
    },
    {
      "cell_type": "markdown",
      "metadata": {
        "id": "h-XRUHBc4p1X"
      },
      "source": [
        "###**Data Removal and Transforming**"
      ]
    },
    {
      "cell_type": "code",
      "execution_count": null,
      "metadata": {
        "id": "dsF9Kfz17bW-"
      },
      "outputs": [],
      "source": [
        "df.pop('PassengerId')\n",
        "df.pop('Name')\n",
        "df.pop('Ticket')\n",
        "df.pop('Cabin')\n",
        "gender = {'male':0,\n",
        "          'female':1}\n",
        "df['Sex'].replace(gender,inplace=True)"
      ]
    },
    {
      "cell_type": "markdown",
      "metadata": {
        "id": "DiHhh-aHZK_b"
      },
      "source": [
        "###**Age**\n",
        "**Conclusions**:- A Particular Range of People Died in Titanic and a particular range have Survived the most hence age could be a key factor in the survival rate\n"
      ]
    },
    {
      "cell_type": "code",
      "execution_count": null,
      "metadata": {
        "id": "cfpHznpY7bUr",
        "colab": {
          "base_uri": "https://localhost:8080/",
          "height": 449
        },
        "outputId": "034f95bd-f129-49d4-f0e7-a9dc640cd9fa"
      },
      "outputs": [
        {
          "output_type": "display_data",
          "data": {
            "text/plain": [
              "<Figure size 640x480 with 1 Axes>"
            ],
            "image/png": "[encoded data removed]"
          },
          "metadata": {}
        }
      ],
      "source": [
        "kde_vs_survived(df,'Age')"
      ]
    },
    {
      "cell_type": "markdown",
      "metadata": {
        "id": "hGxD8OOCaIEL"
      },
      "source": [
        "###**Pclass**\n",
        "**Conclusions:-** Here we can see the that many people from a particular class survived while many from another have not survived hence this could be an important factor as well.\n"
      ]
    },
    {
      "cell_type": "code",
      "execution_count": null,
      "metadata": {
        "id": "ewKD1C9t7bSk",
        "colab": {
          "base_uri": "https://localhost:8080/",
          "height": 449
        },
        "outputId": "06749e6d-ee59-47ee-fcd4-a2a43b0690cd"
      },
      "outputs": [
        {
          "output_type": "display_data",
          "data": {
            "text/plain": [
              "<Figure size 640x480 with 1 Axes>"
            ],
            "image/png": "[encoded data removed]"
          },
          "metadata": {}
        }
      ],
      "source": [
        "kde_vs_survived(df,'Pclass')"
      ]
    },
    {
      "cell_type": "markdown",
      "metadata": {
        "id": "VPl4JDze7yd_"
      },
      "source": [
        "###**Parch and SibSp**\n",
        "Conclusions:- Both The graphs look quite similar and their uses are quite similar so combining them together to form a new *family* column could we usefull"
      ]
    },
    {
      "cell_type": "code",
      "execution_count": null,
      "metadata": {
        "id": "JIWjdL4l7bQU",
        "colab": {
          "base_uri": "https://localhost:8080/",
          "height": 449
        },
        "outputId": "62e30089-a624-4c6d-8012-af49e9df23c5"
      },
      "outputs": [
        {
          "output_type": "display_data",
          "data": {
            "text/plain": [
              "<Figure size 640x480 with 1 Axes>"
            ],
            "image/png": "[encoded data removed]"
          },
          "metadata": {}
        }
      ],
      "source": [
        "kde_vs_survived(df,'SibSp')"
      ]
    },
    {
      "cell_type": "code",
      "execution_count": null,
      "metadata": {
        "id": "UCDjQpRg7bN8",
        "colab": {
          "base_uri": "https://localhost:8080/",
          "height": 449
        },
        "outputId": "4c193c13-4504-4883-fe32-34bb1e485271"
      },
      "outputs": [
        {
          "output_type": "display_data",
          "data": {
            "text/plain": [
              "<Figure size 640x480 with 1 Axes>"
            ],
            "image/png": "[encoded data removed]"
          },
          "metadata": {}
        }
      ],
      "source": [
        "kde_vs_survived(df,'Parch')"
      ]
    },
    {
      "cell_type": "markdown",
      "metadata": {
        "id": "N6KH7ORU7EVh"
      },
      "source": [
        "###**Adding and removing Features**\n",
        "\n",
        "*   Here We can see the parch and sibsp are preety much the similar to each other one describes the number of parents while the other the siblings.\n",
        "\n",
        "*  Also From KDE Plot we can see they have quite Similar graphs hence adding them together could be Usefull for us."
      ]
    },
    {
      "cell_type": "code",
      "execution_count": null,
      "metadata": {
        "id": "yU1z8U9JcrvO",
        "colab": {
          "base_uri": "https://localhost:8080/"
        },
        "outputId": "3f73763d-cfa5-4857-c2ff-d2952b2a3b18"
      },
      "outputs": [
        {
          "output_type": "stream",
          "name": "stdout",
          "text": [
            "Added\n"
          ]
        }
      ],
      "source": [
        "df['F_members'] = df['Parch']+df['SibSp']\n",
        "df.pop('SibSp')\n",
        "df.pop('Parch')\n",
        "print(\"Added\")"
      ]
    },
    {
      "cell_type": "markdown",
      "metadata": {
        "id": "SC-K6ec-8edQ"
      },
      "source": [
        "###**Fare**\n",
        "*Conclusions*\n",
        "\n",
        "*   This was the Most complex Parameter to handle as we have remove outliers as well take into account how dependent it is to the Survival Rate.\n",
        "*   Turns Out It was a indeed a Big Factor As we can see from the KDE Plot Many people with low fare prices didnot survive while people who paid higher had a higher survival rate.\n",
        "\n"
      ]
    },
    {
      "cell_type": "code",
      "execution_count": null,
      "metadata": {
        "id": "Ri4aWHBt7bLd",
        "colab": {
          "base_uri": "https://localhost:8080/",
          "height": 449
        },
        "outputId": "8660b9c5-2ad6-4db2-bdda-e2868237f882"
      },
      "outputs": [
        {
          "output_type": "display_data",
          "data": {
            "text/plain": [
              "<Figure size 640x480 with 1 Axes>"
            ],
            "image/png": "[encoded data removed]"
          },
          "metadata": {}
        }
      ],
      "source": [
        "kde_vs_survived(df,'Fare')"
      ]
    },
    {
      "cell_type": "code",
      "execution_count": null,
      "metadata": {
        "id": "2mfRsMDy7bGr"
      },
      "outputs": [],
      "source": [
        "median_age = df['Age'].median()\n",
        "df['Age'].fillna(median_age, inplace=True)\n",
        "df = rm_outliers(df,'Fare')\n",
        "df = rm_outliers(df,'Age')"
      ]
    },
    {
      "cell_type": "markdown",
      "source": [
        "#**Special function**\n",
        "\n",
        "\n",
        "*   *After all this if we ever want to train ml models on the same type of dataset then we can use this function.*\n",
        "*   *It is nothing but just the entire Summary of the data cleaning process, all the descisions we took for cleaning the data compiled under one function.*\n"
      ],
      "metadata": {
        "id": "V-EuKtzHQ-Qt"
      }
    },
    {
      "cell_type": "code",
      "source": [
        "def data_transform(df):\n",
        "  df.pop('PassengerId')\n",
        "  df.pop('Name')\n",
        "  df.pop('Ticket')\n",
        "  df.pop('Cabin')\n",
        "  gender = {'male':0,\n",
        "            'female':1}\n",
        "  df['Sex'].replace(gender,inplace=True)\n",
        "  df['F_members'] = df['Parch']+df['SibSp']\n",
        "  df.pop('SibSp')\n",
        "  df.pop('Parch')\n",
        "  median_age = df['Age'].median()\n",
        "  df['Age'].fillna(median_age, inplace=True)\n",
        "  df = rm_outliers(df,'Fare')\n",
        "  df = rm_outliers(df,'Age')\n",
        "  X=np.array([df['Age'],df['Fare'],df['F_members'],df['Pclass'],df['Sex']])\n",
        "  X=X.T\n",
        "  y=df['Survived']\n",
        "  return X,y"
      ],
      "metadata": {
        "id": "2U6m3p5IQxwH"
      },
      "execution_count": null,
      "outputs": []
    },
    {
      "cell_type": "markdown",
      "source": [
        "#**Libraries For Models and there Corresponding Utilities**"
      ],
      "metadata": {
        "id": "5hgmO9hoObhs"
      }
    },
    {
      "cell_type": "code",
      "source": [
        "# Models with their Utilites\n",
        "from sklearn.model_selection import train_test_split\n",
        "from sklearn.metrics import accuracy_score\n",
        "from sklearn.linear_model import LogisticRegression\n",
        "from sklearn.neighbors import KNeighborsClassifier\n",
        "from sklearn.ensemble import RandomForestClassifier\n",
        "from sklearn.svm import SVC"
      ],
      "metadata": {
        "id": "F7eNWuPvOZsn"
      },
      "execution_count": null,
      "outputs": []
    },
    {
      "cell_type": "markdown",
      "metadata": {
        "id": "ieoAX9cVJA8v"
      },
      "source": [
        "###**Data Splitting**\n",
        "-> So now we need to take in Account the models to use and splitting the data as well."
      ]
    },
    {
      "cell_type": "code",
      "execution_count": null,
      "metadata": {
        "id": "cKlxFjRII7xQ"
      },
      "outputs": [],
      "source": [
        "X=np.array([df['Age'],df['Fare'],df['F_members'],df['Pclass'],df['Sex']])\n",
        "X=X.T\n",
        "y=df['Survived']\n",
        "X_train, X_test, y_train, y_test = train_test_split(X, y, test_size=0.2, random_state=42)"
      ]
    },
    {
      "cell_type": "markdown",
      "metadata": {
        "id": "u772o5Ek5Ud3"
      },
      "source": [
        "#**Model-Selection**\n",
        "-> Before we select a Model We need to see which type of problem is this and from Analyzing we can simply say its a classification Problem and that to a binary classification problem.\n",
        "\n",
        "-> Hence We need to Check several Models for the optimal performance.There are many classificaion models.I have Used only some the well known and prominent ones.Here Only the raw models are used not with any tuning.\n"
      ]
    },
    {
      "cell_type": "code",
      "execution_count": null,
      "metadata": {
        "id": "cbavsFmB7bEL",
        "colab": {
          "base_uri": "https://localhost:8080/"
        },
        "outputId": "f84162f1-9754-461c-8cc5-1d50004720ea"
      },
      "outputs": [
        {
          "output_type": "stream",
          "name": "stdout",
          "text": [
            "Training Complete\n"
          ]
        }
      ],
      "source": [
        "models={\n",
        "    'LogisticReg':[LogisticRegression(),0],\n",
        "    'Knearest':[KNeighborsClassifier(),0],\n",
        "    'RandomForest':[RandomForestClassifier(),0],\n",
        "    'SVC':[SVC(),0],\n",
        "}\n",
        "model1 = models['Knearest'][0]\n",
        "model2 = models['RandomForest'][0]\n",
        "model3 = models['LogisticReg'][0]\n",
        "model4 = models['SVC'][0]\n",
        "model1.fit(X_train, y_train)\n",
        "model2.fit(X_train, y_train)\n",
        "model3.fit(X_train, y_train)\n",
        "model4.fit(X_train, y_train)\n",
        "print(\"Training Complete\")"
      ]
    },
    {
      "cell_type": "markdown",
      "metadata": {
        "id": "hD8FrVIBMz5f"
      },
      "source": [
        "#**Predictions**"
      ]
    },
    {
      "cell_type": "code",
      "execution_count": null,
      "metadata": {
        "id": "604ViSpWgDG-"
      },
      "outputs": [],
      "source": [
        "pred1 = model1.predict(X_test)\n",
        "pred2 = model2.predict(X_test)\n",
        "pred3 = model3.predict(X_test)\n",
        "pred4 = model4.predict(X_test)"
      ]
    },
    {
      "cell_type": "markdown",
      "metadata": {
        "id": "IKBJjI2BMxRg"
      },
      "source": [
        "#**Scores**\n",
        "#*Conclusions:-*\n",
        "We can see that the best performer here is the RandomForest Classifier > LogisticReg > Knearest > SVC."
      ]
    },
    {
      "cell_type": "code",
      "execution_count": null,
      "metadata": {
        "id": "sYOjpahNgDDh",
        "colab": {
          "base_uri": "https://localhost:8080/"
        },
        "outputId": "124cb969-009f-4faa-f1ba-4eef02b8f57e"
      },
      "outputs": [
        {
          "output_type": "execute_result",
          "data": {
            "text/plain": [
              "(76.76056338028168, 85.2112676056338, 82.3943661971831, 71.12676056338029)"
            ]
          },
          "metadata": {},
          "execution_count": 78
        }
      ],
      "source": [
        "score1=accuracy_score(y_test, pred1) # Knearest\n",
        "score2=accuracy_score(y_test, pred2) # RandomForest\n",
        "score3=accuracy_score(y_test, pred3) # LogisticReg\n",
        "score4=accuracy_score(y_test, pred4) # SVC\n",
        "score1*100,score2*100,score3*100,score4*100"
      ]
    },
    {
      "cell_type": "markdown",
      "metadata": {
        "id": "gvMLzL2iWCfp"
      },
      "source": [
        "#**Hyper-Parameter Tuning.**\n",
        "\n",
        "*  Now Here we try to adjust certain hyper-parameters in the models we used before.\n",
        "*  In order to get the best out of the models we will perform RandomizedSearchCV to find the best hyper-parammeters for each model and then Conclude the best model.\n",
        "\n"
      ]
    },
    {
      "cell_type": "markdown",
      "source": [
        "#*Libraries required for Hyper-Parameter Tuning*"
      ],
      "metadata": {
        "id": "Lqj3HAUwO1Vx"
      }
    },
    {
      "cell_type": "code",
      "source": [
        "from sklearn.model_selection import RandomizedSearchCV\n",
        "from scipy.stats import randint"
      ],
      "metadata": {
        "id": "qESbiL-_O0bo"
      },
      "execution_count": null,
      "outputs": []
    },
    {
      "cell_type": "markdown",
      "source": [
        "#*User Defined Function for hyperparameter-tuning.*"
      ],
      "metadata": {
        "id": "5B3TBlkuP2so"
      }
    },
    {
      "cell_type": "code",
      "source": [
        "def best_model_pred(model,param_grid):\n",
        "  radom_srch_svm = RandomizedSearchCV(model, param_distributions=param_grid, n_iter=101, cv=5, random_state=42)\n",
        "  radom_srch_svm.fit(X_train,y_train)\n",
        "  best_params = radom_srch_svm.best_params_\n",
        "  best_model = radom_srch_svm.best_estimator_\n",
        "  best_model_score = best_model.score(X_test, y_test)\n",
        "  return best_model,best_model_score"
      ],
      "metadata": {
        "id": "csJuFrVMP2Lb"
      },
      "execution_count": null,
      "outputs": []
    },
    {
      "cell_type": "markdown",
      "source": [
        "#*Specifying which combinations of Parameters to try for.*"
      ],
      "metadata": {
        "id": "4hxLZg-nP_gF"
      }
    },
    {
      "cell_type": "code",
      "execution_count": null,
      "metadata": {
        "id": "Pm3IvPyJgDBG"
      },
      "outputs": [],
      "source": [
        "param_grid_knear={\n",
        "    'weights':['uniform','distance'],\n",
        "}\n",
        "param_grid_rndfrst={\n",
        "    'n_estimators': randint(10, 200),\n",
        "    'min_samples_split': randint(2, 20),\n",
        "    'min_samples_leaf': randint(1, 20),\n",
        "    'max_features': ['sqrt', 'log2', None]\n",
        "}\n",
        "param_grid_logreg={\n",
        "    'C':[1,2,3,4,5],\n",
        "    'penalty':['l2']\n",
        "}\n",
        "param_grid_svm={\n",
        "    'C':[1,2,3,4,5],\n",
        "    'kernel':['linear'],\n",
        "    'gamma':['auto'],\n",
        "}"
      ]
    },
    {
      "cell_type": "markdown",
      "metadata": {
        "id": "ui8ky0Ev0aw0"
      },
      "source": [
        "##*Results after hyperparameter tuning*\n",
        "\n",
        "*   We can see some models perform really well after tuning them manually while some donot perform that well.\n",
        "*   Although we were not able to get any immensly better results after tuning but we can see slight improvements these can be further improved if we have more data.\n",
        "\n"
      ]
    },
    {
      "cell_type": "code",
      "execution_count": null,
      "metadata": {
        "colab": {
          "base_uri": "https://localhost:8080/"
        },
        "id": "YlkvdIvWT1YB",
        "outputId": "06e20c66-b053-47d3-fd15-a4d56d1eb198"
      },
      "outputs": [
        {
          "output_type": "stream",
          "name": "stderr",
          "text": [
            "/usr/local/lib/python3.10/dist-packages/sklearn/model_selection/_search.py:305: UserWarning: The total space of parameters 2 is smaller than n_iter=101. Running 2 iterations. For exhaustive searches, use GridSearchCV.\n",
            "  warnings.warn(\n",
            "/usr/local/lib/python3.10/dist-packages/sklearn/model_selection/_search.py:305: UserWarning: The total space of parameters 5 is smaller than n_iter=101. Running 5 iterations. For exhaustive searches, use GridSearchCV.\n",
            "  warnings.warn(\n",
            "/usr/local/lib/python3.10/dist-packages/sklearn/model_selection/_search.py:305: UserWarning: The total space of parameters 5 is smaller than n_iter=101. Running 5 iterations. For exhaustive searches, use GridSearchCV.\n",
            "  warnings.warn(\n"
          ]
        }
      ],
      "source": [
        "model2_cpy=model2 # Copy of the Random Forest we trained for further enhancements\n",
        "knearst,kn_score=best_model_pred(model1,param_grid_knear)\n",
        "rndforest,rf_score=best_model_pred(model2,param_grid_rndfrst)\n",
        "logreg,lr_score=best_model_pred(model3,param_grid_logreg)\n",
        "svc,svc_score=best_model_pred(model4,param_grid_svm)"
      ]
    },
    {
      "cell_type": "code",
      "source": [
        "print('Knearest --------------->',kn_score)\n",
        "print('Rndfrst  --------------->',rf_score)\n",
        "print('logreq   --------------->',lr_score)\n",
        "print('SVC      --------------->',svc_score)\n",
        "models['Knearest']=knearst,kn_score\n",
        "models['RandomForest']=rndforest,score2\n",
        "models['LogisticReg']=logreg,lr_score\n",
        "models['SVC']=svc,svc_score"
      ],
      "metadata": {
        "colab": {
          "base_uri": "https://localhost:8080/"
        },
        "id": "I1t4AUwu9z3O",
        "outputId": "2dcb2894-38c6-408a-b2f9-952b42ec7e69"
      },
      "execution_count": null,
      "outputs": [
        {
          "output_type": "stream",
          "name": "stdout",
          "text": [
            "Knearest ---------------> 0.795774647887324\n",
            "Rndfrst  ---------------> 0.8450704225352113\n",
            "logreq   ---------------> 0.823943661971831\n",
            "SVC      ---------------> 0.7746478873239436\n"
          ]
        }
      ]
    },
    {
      "cell_type": "markdown",
      "source": [
        "#*Alternative Way of making a better RandomForest Classifier*\n",
        "-> Randomforest classifier which is a combination of many different decision trees where the final prediction is generated by aggregating the predictions from each individual and independent decision tree.\n",
        "\n",
        "-> So we what we can do is remove certain bad performing descision trees which will inturn improve the overall model."
      ],
      "metadata": {
        "id": "6ReK05rlHnBU"
      }
    },
    {
      "cell_type": "code",
      "execution_count": null,
      "metadata": {
        "colab": {
          "base_uri": "https://localhost:8080/"
        },
        "id": "8HescfpVT1Um",
        "outputId": "09ea4c85-dfc1-45d9-8383-8c2164d1fae3"
      },
      "outputs": [
        {
          "output_type": "execute_result",
          "data": {
            "text/plain": [
              "array([[0.        , 0.81690141],\n",
              "       [1.        , 0.83802817],\n",
              "       [2.        , 0.8028169 ],\n",
              "       [3.        , 0.84507042],\n",
              "       [4.        , 0.83802817]])"
            ]
          },
          "metadata": {},
          "execution_count": 84
        }
      ],
      "source": [
        "model_accs= []\n",
        "for idx, tree in enumerate(model2_cpy.estimators_):\n",
        "    score = tree.score(X_test, y_test)\n",
        "    model_accs.append([idx, score])\n",
        "model_accs = np.array(model_accs)\n",
        "model_accs[:5]"
      ]
    },
    {
      "cell_type": "markdown",
      "source": [
        "*So these are the indices of the best performing descision trees in the RF-classifier*"
      ],
      "metadata": {
        "id": "dpijhfmgLtoM"
      }
    },
    {
      "cell_type": "code",
      "source": [
        "sorted_indices = np.argsort(model_accs[:, 1])[::-1]\n",
        "model_ids = model_accs[sorted_indices][:,0].astype(int)\n",
        "model_ids[:10]"
      ],
      "metadata": {
        "colab": {
          "base_uri": "https://localhost:8080/"
        },
        "id": "QKfRYBL8Gv-C",
        "outputId": "e3808fb5-8221-44c2-d609-ac2c46fb3226"
      },
      "execution_count": null,
      "outputs": [
        {
          "output_type": "execute_result",
          "data": {
            "text/plain": [
              "array([52, 48, 74, 24,  3, 27, 10, 30, 47, 91])"
            ]
          },
          "metadata": {},
          "execution_count": 85
        }
      ]
    },
    {
      "cell_type": "code",
      "execution_count": null,
      "metadata": {
        "id": "mr2CxfMvT1SM"
      },
      "outputs": [],
      "source": [
        "model2_cpy.estimators_ = np.array(model2_cpy.estimators_)[model_ids].tolist()"
      ]
    },
    {
      "cell_type": "markdown",
      "source": [
        "*Here what we did was compiled only those descision trees which have a better accuracy.*"
      ],
      "metadata": {
        "id": "N7kxDIghL7Z4"
      }
    },
    {
      "cell_type": "code",
      "execution_count": null,
      "metadata": {
        "id": "REr_CSyST1Pj"
      },
      "outputs": [],
      "source": [
        "total_models = len(model2_cpy.estimators_)\n",
        "best_model = model2\n",
        "for i in range(2, total_models):\n",
        "    best_model.estimators_ = model2_cpy.estimators_[:i]\n",
        "models['modified_rndforest']=best_model,best_model.score(X_test, y_test)"
      ]
    },
    {
      "cell_type": "markdown",
      "source": [
        "#**Pipeline**"
      ],
      "metadata": {
        "id": "wLhkEfhrB7zc"
      }
    },
    {
      "cell_type": "markdown",
      "source": [
        "#*Libraries for data preprocessing and Pipeline*"
      ],
      "metadata": {
        "id": "ZeqVmls8PF93"
      }
    },
    {
      "cell_type": "code",
      "source": [
        "from sklearn.pipeline import Pipeline\n",
        "from sklearn.impute import SimpleImputer\n",
        "from sklearn.preprocessing import StandardScaler"
      ],
      "metadata": {
        "id": "tvMPobDwPE-g"
      },
      "execution_count": null,
      "outputs": []
    },
    {
      "cell_type": "markdown",
      "source": [
        "*Finding the best model*\n",
        "\n",
        "In this step we find out the *bestmodel* as per there accuracy scores"
      ],
      "metadata": {
        "id": "KIx5KJ9BPOoG"
      }
    },
    {
      "cell_type": "code",
      "execution_count": null,
      "metadata": {
        "colab": {
          "base_uri": "https://localhost:8080/"
        },
        "id": "et0hyvzDT1Mm",
        "outputId": "c747a5c2-81aa-44ed-e851-9e1797636854"
      },
      "outputs": [
        {
          "output_type": "execute_result",
          "data": {
            "text/plain": [
              "(RandomForestClassifier(max_features='log2', min_samples_split=16,\n",
              "                        n_estimators=43),\n",
              " 0.852112676056338)"
            ]
          },
          "metadata": {},
          "execution_count": 89
        }
      ],
      "source": [
        "models = list(models.values())\n",
        "maxacc=models[0][1]\n",
        "best_model=models[0][0]\n",
        "for [model,x] in models:\n",
        "  if maxacc<x:\n",
        "    maxacc=x\n",
        "    best_model=model\n",
        "best_model,maxacc"
      ]
    },
    {
      "cell_type": "markdown",
      "source": [
        "**Creating the pipeline:-**\n",
        "\n",
        "*   Here we have finally created a pipeline with the best model from our analysis.\n",
        "*   Here also we have included some preprocessing although we could have avoided that but it gives a little boost for the trained model.\n",
        "\n"
      ],
      "metadata": {
        "id": "PX63zEWAAm-k"
      }
    },
    {
      "cell_type": "code",
      "execution_count": null,
      "metadata": {
        "colab": {
          "base_uri": "https://localhost:8080/"
        },
        "id": "aui-biz0gC-m",
        "outputId": "d5f390e8-d1e1-4d36-ed72-cf6dbb61f3d9"
      },
      "outputs": [
        {
          "output_type": "execute_result",
          "data": {
            "text/plain": [
              "0.8591549295774648"
            ]
          },
          "metadata": {},
          "execution_count": 93
        }
      ],
      "source": [
        "pipeline = Pipeline([\n",
        "                     ('missing_values', SimpleImputer(strategy='mean')),\n",
        "                     ('feature_scaling', StandardScaler()),\n",
        "                     ('model',best_model)\n",
        "                     ])\n",
        "pipeline.fit(X_train,y_train)\n",
        "predictions = pipeline.predict(X_test)\n",
        "accuracy_score(y_test,predictions)"
      ]
    },
    {
      "cell_type": "markdown",
      "source": [
        "#**Exporting The Pipeline:-**\n",
        "\n",
        "*   Altough this was not mentioned in the steps but it was very essential to export our models/pipelines so that we donot run them again and again.\n",
        "*   Here i have used joblib, while pickle being an option but it was not advised to store models in pickle format as they are sensetive to cracks hence joblib.\n",
        "\n"
      ],
      "metadata": {
        "id": "RICiZeYrBGr2"
      }
    },
    {
      "cell_type": "code",
      "source": [
        "import joblib\n",
        "filename = 'pipeline.joblib'\n",
        "joblib.dump(pipeline, filename)\n",
        "print('pipeline exported successfully')"
      ],
      "metadata": {
        "colab": {
          "base_uri": "https://localhost:8080/"
        },
        "id": "10rb9GV5y_Ry",
        "outputId": "be396c33-c283-455c-9791-ce035830d5b7"
      },
      "execution_count": null,
      "outputs": [
        {
          "output_type": "stream",
          "name": "stdout",
          "text": [
            "pipeline exported successfully\n"
          ]
        }
      ]
    },
    {
      "cell_type": "markdown",
      "source": [
        "#**Challenges Faced And Learnings From Them.**\n",
        "\n",
        "1. **Problem:**  *While Doing the data analysis the biggest challenge was identifying which features of the data affect the label in which way. To Overcome it seaborn and matplotlib was really helpfull which showed the graphs where visualzing the data made a difference in data analysis.*\n",
        "\n",
        "* **Learning:** learning Here was to just visualize, visualize and visualize the data as much as possible inorder to find the relationships and draw accurate conclusions.\n",
        "\n",
        "2. **Problem:** *Second Part of the data analysis that was difficult was reducing the number of features so that the model becomes efficient.To counter this we have merged certain columns and many were completely removed as there presence didn't affect the labels.*\n",
        "\n",
        "* **Learning:** *Here the learning was looking similarties between features and again visualizing the data/ using common sense to reduce the features(Like removing the slno. from a dataset,etc.).But biggest learning was **\"Not every data in the dataset is usefull\"**.*\n",
        "\n",
        "3. *Now After spilting and training the model the next challenge was to find a more efficient model. To do so we did hyper-Parameter tuning/Fine-tuning using RandomizedSearchcv.Also we found a new approach of optimizing and improving Random-Forest Classifier which was again very helpfull and turned out to perfom the best among all.*\n",
        "\n",
        "* **Learning:** *Here the learning was to use google for info on the several ways to fine tuning and methods of optimizing certain algorithms based on data Used*\n",
        "\n",
        "\n",
        "\n",
        "\n",
        "\n"
      ],
      "metadata": {
        "id": "3cdsHkXN0otb"
      }
    },
    {
      "cell_type": "markdown",
      "source": [
        "#**Thank You Very Much for this Entire learning process that you guys gave and your patience to read all these 🙏**"
      ],
      "metadata": {
        "id": "OPMU_bjCRUku"
      }
    }
  ],
  "metadata": {
    "accelerator": "GPU",
    "colab": {
      "provenance": [],
      "gpuType": "T4",
      "include_colab_link": true
    },
    "kernelspec": {
      "display_name": "Python 3",
      "name": "python3"
    },
    "language_info": {
      "name": "python"
    }
  },
  "nbformat": 4,
  "nbformat_minor": 0
}