{
 "cells": [
  {
   "cell_type": "code",
   "execution_count": 37,
   "id": "7b5aaa4f",
   "metadata": {},
   "outputs": [
    {
     "name": "stdout",
     "output_type": "stream",
     "text": [
      "end\n"
     ]
    }
   ],
   "source": [
    "import cv2\n",
    "\n",
    "obj = cv2.VideoCapture('C:/Users/naray/OneDrive/Pictures/Camera Roll/1.mp4')\n",
    "\n",
    "while True:\n",
    "    ret, frame = obj.read()\n",
    "    if(ret):\n",
    "        cv2.imshow('frame',frame)\n",
    "    else:\n",
    "        print('end')\n",
    "        break\n",
    "    if cv2.waitKey(10) & 0xFF==ord('q'):\n",
    "        break\n",
    "\n",
    "obj.release()\n",
    "# cv2.destroyAllWindows()"
   ]
  },
  {
   "cell_type": "code",
   "execution_count": null,
   "id": "c3b5ac7d",
   "metadata": {},
   "outputs": [],
   "source": []
  }
 ],
 "metadata": {
  "kernelspec": {
   "display_name": "Python 3 (ipykernel)",
   "language": "python",
   "name": "python3"
  },
  "language_info": {
   "codemirror_mode": {
    "name": "ipython",
    "version": 3
   },
   "file_extension": ".py",
   "mimetype": "text/x-python",
   "name": "python",
   "nbconvert_exporter": "python",
   "pygments_lexer": "ipython3",
   "version": "3.11.4"
  }
 },
 "nbformat": 4,
 "nbformat_minor": 5
}
